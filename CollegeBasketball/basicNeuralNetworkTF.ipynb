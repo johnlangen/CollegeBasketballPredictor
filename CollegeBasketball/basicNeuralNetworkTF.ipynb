{
 "cells": [
  {
   "cell_type": "code",
   "execution_count": 26,
   "id": "ed4acd1b-1147-45ce-aa74-a47731824a3f",
   "metadata": {},
   "outputs": [
    {
     "name": "stdout",
     "output_type": "stream",
     "text": [
      "1/1 [==============================] - 0s 38ms/step\n",
      "[[0.0017146 ]\n",
      " [0.00171516]\n",
      " [0.9993919 ]\n",
      " [0.9993904 ]]\n"
     ]
    }
   ],
   "source": [
    "# basic neural network\n",
    "\n",
    "\n",
    "import tensorflow as tf\n",
    "import numpy as np\n",
    "\n",
    "# input dataset\n",
    "X = np.array([[-30,-60,20],\n",
    "     [-19,40,50],\n",
    "     [50,-15,12],\n",
    "     [20,45,15]])\n",
    "\n",
    "# output dataset\n",
    "y = np.array([0, 0, 1, 1])\n",
    "\n",
    "# define the model\n",
    "model = tf.keras.Sequential([\n",
    "  tf.keras.layers.Dense(3, activation=tf.nn.sigmoid),\n",
    "  tf.keras.layers.Dense(1, activation=tf.nn.sigmoid)\n",
    "])\n",
    "\n",
    "# compile the model\n",
    "model.compile(optimizer='adam', loss='binary_crossentropy', metrics=['accuracy'])\n",
    "\n",
    "# train the model\n",
    "model.fit(X, y, epochs=10000, verbose=0)\n",
    "\n",
    "# evaluate the model\n",
    "print(model.predict(X))\n",
    "\n",
    "\n"
   ]
  },
  {
   "cell_type": "code",
   "execution_count": 27,
   "id": "c039cb1d-c9cf-452a-a7f1-d57798f4daef",
   "metadata": {},
   "outputs": [
    {
     "name": "stdout",
     "output_type": "stream",
     "text": [
      "1/1 [==============================] - 0s 52ms/step\n",
      "[[1]\n",
      " [0]\n",
      " [1]]\n"
     ]
    }
   ],
   "source": [
    "# define the new data array\n",
    "X_new = [[1, 0, 1],\n",
    "         [0, 0, 1],\n",
    "         [1, 1, 0]]\n",
    "\n",
    "# make predictions on the new data\n",
    "predictions = model.predict(X_new)\n",
    "\n",
    "\n",
    "# classify predictions as 0 or 1\n",
    "predictions = (predictions > 0.5).astype(int)\n",
    "\n",
    "# print the predictions\n",
    "print(predictions)\n"
   ]
  },
  {
   "cell_type": "code",
   "execution_count": null,
   "id": "d1a56596-91d1-41af-89cf-0b29640bc24d",
   "metadata": {},
   "outputs": [],
   "source": []
  }
 ],
 "metadata": {
  "kernelspec": {
   "display_name": "Python 3 (ipykernel)",
   "language": "python",
   "name": "python3"
  },
  "language_info": {
   "codemirror_mode": {
    "name": "ipython",
    "version": 3
   },
   "file_extension": ".py",
   "mimetype": "text/x-python",
   "name": "python",
   "nbconvert_exporter": "python",
   "pygments_lexer": "ipython3",
   "version": "3.9.12"
  }
 },
 "nbformat": 4,
 "nbformat_minor": 5
}
